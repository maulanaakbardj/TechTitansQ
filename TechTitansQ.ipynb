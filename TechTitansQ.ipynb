{
  "nbformat": 4,
  "nbformat_minor": 0,
  "metadata": {
    "colab": {
      "name": "TechTitansQ.ipynb",
      "provenance": [],
      "collapsed_sections": [],
      "authorship_tag": "ABX9TyNIZB0FyxsEeglvcDK9xabO",
      "include_colab_link": true
    },
    "kernelspec": {
      "name": "python3",
      "display_name": "Python 3"
    },
    "language_info": {
      "name": "python"
    }
  },
  "cells": [
    {
      "cell_type": "markdown",
      "metadata": {
        "id": "view-in-github",
        "colab_type": "text"
      },
      "source": [
        "<a href=\"https://colab.research.google.com/github/maulanaakbardj/TechTitansQ_ML/blob/main/TechTitansQ.ipynb\" target=\"_parent\"><img src=\"https://colab.research.google.com/assets/colab-badge.svg\" alt=\"Open In Colab\"/></a>"
      ]
    },
    {
      "cell_type": "markdown",
      "metadata": {
        "id": "PBASw2liqNIj"
      },
      "source": [
        "# This Code by : Maulana Akbar D\n",
        "https://github.com/maulanaakbardj"
      ]
    },
    {
      "cell_type": "code",
      "metadata": {
        "colab": {
          "base_uri": "https://localhost:8080/",
          "height": 51
        },
        "id": "ypjF1tapmUnn",
        "outputId": "35cfd1c4-3895-48e9-ebb2-618a6ef4c43c"
      },
      "source": [
        "'''\n",
        "function f(string a) return string\n",
        "    string s = \"\"\n",
        "    int i = 0\n",
        "    while i < len(a) - 1\n",
        "        s = s + a[i+1]\n",
        "        i = i + 1\n",
        "    return s\n",
        "\n",
        "function g(string a, int b) return string\n",
        "    if b == 0\n",
        "        return a\n",
        "    return f(a) + a[0]\n",
        "\n",
        "string s = \"0123456789\"\n",
        "int i = 0\n",
        "while i < 7\n",
        "    int j = 0\n",
        "    while j < 100000000\n",
        "        s = g(s, 9000000)\n",
        "        j = j +1\n",
        "    s = g(s,9)\n",
        "    i = i + 1\n",
        "print(s) \n",
        "'''"
      ],
      "execution_count": 18,
      "outputs": [
        {
          "output_type": "execute_result",
          "data": {
            "application/vnd.google.colaboratory.intrinsic+json": {
              "type": "string"
            },
            "text/plain": [
              "'\\nfunction f(string a) return string\\n    string s = \"\"\\n    int i = 0\\n    while i < len(a) - 1\\n        s = s + a[i+1]\\n        i = i + 1\\n    return s\\n\\nfunction g(string a, int b) return string\\n    if b == 0\\n        return a\\n    return f(a) + a[0]\\n\\nstring s = \"0123456789\"\\nint i = 0\\nwhile i < 7\\n    int j = 0\\n    while j < 100000000\\n        s = g(s, 9000000)\\n        j = j +1\\n    s = g(s,9)\\n    i = i + 1\\nprint(s) \\n'"
            ]
          },
          "metadata": {},
          "execution_count": 18
        }
      ]
    },
    {
      "cell_type": "code",
      "metadata": {
        "id": "-BJjA_GHqFdr"
      },
      "source": [
        "def f(a):\n",
        "    s = \"\"\n",
        "    i = 0\n",
        "    while i < len(a) - 1:\n",
        "        s = s + a[i+1]\n",
        "        i = i + 1\n",
        "    return s"
      ],
      "execution_count": 20,
      "outputs": []
    },
    {
      "cell_type": "code",
      "metadata": {
        "id": "014U-VRfqITr"
      },
      "source": [
        "def g(a, b):\n",
        "    if b == 0 :\n",
        "        return a\n",
        "    return f(a) + a[0]"
      ],
      "execution_count": 21,
      "outputs": []
    },
    {
      "cell_type": "code",
      "metadata": {
        "colab": {
          "base_uri": "https://localhost:8080/"
        },
        "id": "0ykapgkdn3Tu",
        "outputId": "2be4df59-d96e-47d7-b234-3c06b262f70b"
      },
      "source": [
        "s = \"0123456789\"\n",
        "i = 0\n",
        "while i < 7 :\n",
        "    j = 0\n",
        "    while j < 100000000 :\n",
        "        s = g(s, 9000000)\n",
        "        j = j +1\n",
        "    s = g(s,9)\n",
        "    i = i + 1\n",
        "print(s) "
      ],
      "execution_count": 24,
      "outputs": [
        {
          "output_type": "stream",
          "name": "stdout",
          "text": [
            "7890123456\n"
          ]
        }
      ]
    },
    {
      "cell_type": "code",
      "metadata": {
        "id": "zoabprBgkYBY",
        "colab": {
          "base_uri": "https://localhost:8080/",
          "height": 35
        },
        "outputId": "5405fa42-a3d1-4470-c3e0-ebef1e984799"
      },
      "source": [
        "'''\n",
        "function f (int[] arr) returns int\n",
        "\tint i = 0\n",
        "int s = 0\n",
        "while i < length(arr)\n",
        "s = s + arr[i]\n",
        "i = i + 1\n",
        "end\n",
        "return s\n",
        "end\n",
        "'''"
      ],
      "execution_count": 17,
      "outputs": [
        {
          "output_type": "execute_result",
          "data": {
            "application/vnd.google.colaboratory.intrinsic+json": {
              "type": "string"
            },
            "text/plain": [
              "'\\nfunction f (int[] arr) returns int\\n\\tint i = 0\\nint s = 0\\nwhile i < length(arr)\\ns = s + arr[i]\\ni = i + 1\\nend\\nreturn s\\nend\\n'"
            ]
          },
          "metadata": {},
          "execution_count": 17
        }
      ]
    },
    {
      "cell_type": "code",
      "metadata": {
        "colab": {
          "base_uri": "https://localhost:8080/"
        },
        "id": "1tUJ5wPHl9E_",
        "outputId": "f8860bf2-6d0f-4635-bf34-2664d3c3932f"
      },
      "source": [
        "def f (x, arr ): \n",
        "  x= [5, 7, 8, 3]\n",
        "  i = 0\n",
        "  s = 0\n",
        "  while i < length(arr) :\n",
        "    s = s + arr[i]\n",
        "    i = i + 1\n",
        "  end\n",
        "  return s\n",
        "print(x)"
      ],
      "execution_count": 14,
      "outputs": [
        {
          "output_type": "stream",
          "name": "stdout",
          "text": [
            "(11, 10, 10, 5, 10, 15, 20, 10, 7, 11)\n"
          ]
        }
      ]
    },
    {
      "cell_type": "code",
      "metadata": {
        "colab": {
          "base_uri": "https://localhost:8080/",
          "height": 83
        },
        "id": "bCKVUie2j6R8",
        "outputId": "8dd2e353-6404-42b4-aea8-3091b86c1cd8"
      },
      "source": [
        "'''\n",
        "function foo(int[] x, int a, int b, int i, int j) returns int\n",
        "    int k = j\n",
        "    int ct = 0\n",
        "    while k > i-1\n",
        "        if x[k] <= b and not (x[k] <= a)\n",
        "            ct = ct + 1\n",
        "        end\n",
        "        k = k - 1\n",
        "    end\n",
        "    return ct\n",
        "end\n",
        "\n",
        "int[] x = [11,10,10,5,10,15,20,10,7,11]\n",
        "int[] y = int[10000000000000000000]\n",
        "int m = 0\n",
        "while m <  10000000000000000000\n",
        "  y[m] = m\n",
        "  m = m +1\n",
        "end\n",
        "\n",
        "print(foo(x,8,18,3,6))\n",
        "print(foo(x,10,20,0,9))\n",
        "print(foo(x,8,18,6,3))\n",
        "print(foo(x,20,10,0,9))\n",
        "print(foo(x,6,7,8,8))\n",
        "# Please be careful with typos for the output of the following lines!\n",
        "print(foo(y,\n",
        "          111112222233333, # five 1's, then five 2's, then five 3's\n",
        "          999998888877777, # five 9's, then five 8's, then five 7's\n",
        "          222223333344444, # five 2's, then five 3's, then five 4's\n",
        "          905003340009900023))\n",
        "\n",
        "Note: , the print() statement doesn't print a space or newline after printing the argument.\n",
        "'''"
      ],
      "execution_count": 16,
      "outputs": [
        {
          "output_type": "execute_result",
          "data": {
            "application/vnd.google.colaboratory.intrinsic+json": {
              "type": "string"
            },
            "text/plain": [
              "\"\\nfunction foo(int[] x, int a, int b, int i, int j) returns int\\n    int k = j\\n    int ct = 0\\n    while k > i-1\\n        if x[k] <= b and not (x[k] <= a)\\n            ct = ct + 1\\n        end\\n        k = k - 1\\n    end\\n    return ct\\nend\\n\\nint[] x = [11,10,10,5,10,15,20,10,7,11]\\nint[] y = int[10000000000000000000]\\nint m = 0\\nwhile m <  10000000000000000000\\n  y[m] = m\\n  m = m +1\\nend\\n\\nprint(foo(x,8,18,3,6))\\nprint(foo(x,10,20,0,9))\\nprint(foo(x,8,18,6,3))\\nprint(foo(x,20,10,0,9))\\nprint(foo(x,6,7,8,8))\\n# Please be careful with typos for the output of the following lines!\\nprint(foo(y,\\n          111112222233333, # five 1's, then five 2's, then five 3's\\n          999998888877777, # five 9's, then five 8's, then five 7's\\n          222223333344444, # five 2's, then five 3's, then five 4's\\n          905003340009900023))\\n\\nNote: , the print() statement doesn't print a space or newline after printing the argument.\\n\""
            ]
          },
          "metadata": {},
          "execution_count": 16
        }
      ]
    },
    {
      "cell_type": "code",
      "metadata": {
        "colab": {
          "base_uri": "https://localhost:8080/"
        },
        "id": "zIRJ882sj7gq",
        "outputId": "090af952-7811-4c9e-e652-0518d404d9e4"
      },
      "source": [
        "def foo(x, a, b, i, j):\n",
        "    k = j\n",
        "    ct = 0\n",
        "    while k > i-1:\n",
        "        if x[k] <= b and not (x[k] <= a):\n",
        "            ct = ct + 1\n",
        "        k = k - 1\n",
        "    return ct\n",
        "\n",
        "x = (11,10,10,5,10,15,20,10,7,11)\n",
        "\n",
        "print(foo(x,8,18,3,6))\n",
        "print(foo(x,10,20,0,9))\n",
        "print(foo(x,8,18,6,3))\n",
        "print(foo(x,20,10,0,9))\n",
        "print(foo(x,6,7,8,8))"
      ],
      "execution_count": 3,
      "outputs": [
        {
          "output_type": "stream",
          "name": "stdout",
          "text": [
            "2\n",
            "4\n",
            "0\n",
            "0\n",
            "1\n"
          ]
        }
      ]
    },
    {
      "cell_type": "code",
      "metadata": {
        "id": "Lii1MRG0m1yF"
      },
      "source": [
        ""
      ],
      "execution_count": null,
      "outputs": []
    }
  ]
}